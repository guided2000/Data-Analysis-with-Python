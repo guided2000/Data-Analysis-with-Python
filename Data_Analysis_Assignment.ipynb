{
 "cells": [
  {
   "cell_type": "code",
   "execution_count": null,
   "id": "52dd4578",
   "metadata": {},
   "outputs": [],
   "source": [
    "import pandas as pd\n",
    "from sklearn.model_selection import train_test_split, cross_val_score\n",
    "from sklearn.tree import DecisionTreeClassifier, plot_tree\n",
    "from sklearn.metrics import accuracy_score, confusion_matrix, classification_report\n",
    "from sklearn.model_selection import GridSearchCV\n",
    "import matplotlib.pyplot as plt\n",
    "import seaborn as sns"
   ]
  },
  {
   "cell_type": "code",
   "execution_count": null,
   "id": "82257937",
   "metadata": {},
   "outputs": [],
   "source": [
    "# 1. بارگذاری مجموعه داده\n",
    "data = sns.load_dataset(\"iris\")  # مثال با دیتاست Iris\n",
    "X = data.drop(columns=\"species\")  # ویژگی‌ها\n",
    "y = data[\"species\"]               # متغیر هدف"
   ]
  },
  {
   "cell_type": "code",
   "execution_count": null,
   "id": "c377d467",
   "metadata": {},
   "outputs": [],
   "source": [
    "# تقسیم‌بندی داده‌ها به بخش‌های آموزشی و آزمون با استفاده از Hold-out و Cross-Validation\n",
    "X_train, X_test, y_train, y_test = train_test_split(X, y, test_size=0.2, random_state=42)"
   ]
  },
  {
   "cell_type": "code",
   "execution_count": null,
   "id": "71d71fcb",
   "metadata": {},
   "outputs": [],
   "source": [
    "# 2. ایجاد مدل درخت تصمیم با معیارهای Information Gain و Gini Index\n",
    "tree_gini = DecisionTreeClassifier(criterion=\"gini\", random_state=42)\n",
    "tree_entropy = DecisionTreeClassifier(criterion=\"entropy\", random_state=42)\n",
    "\n",
    "tree_gini.fit(X_train, y_train)\n",
    "tree_entropy.fit(X_train, y_train)"
   ]
  },
  {
   "cell_type": "code",
   "execution_count": null,
   "id": "ed22dfbf",
   "metadata": {},
   "outputs": [],
   "source": [
    "# 3. تنظیم پارامترهای مدل برای بهینه‌سازی (هرس کردن درخت)\n",
    "param_grid = {\n",
    "    'max_depth': [3, 5, 7, None],\n",
    "    'min_samples_leaf': [1, 5, 10]\n",
    "}\n",
    "grid_search = GridSearchCV(DecisionTreeClassifier(random_state=42), param_grid, cv=10)\n",
    "grid_search.fit(X_train, y_train)\n",
    "best_tree = grid_search.best_estimator_"
   ]
  },
  {
   "cell_type": "code",
   "execution_count": null,
   "id": "27af9850",
   "metadata": {},
   "outputs": [],
   "source": [
    "# 4. ارزیابی مدل‌ها و محاسبه دقت و ماتریس درهم‌ریختگی\n",
    "y_pred_gini = tree_gini.predict(X_test)\n",
    "y_pred_entropy = tree_entropy.predict(X_test)\n",
    "y_pred_best = best_tree.predict(X_test)\n",
    "\n",
    "print(\"دقت مدل Gini:\", accuracy_score(y_test, y_pred_gini))\n",
    "print(\"دقت مدل Entropy:\", accuracy_score(y_test, y_pred_entropy))\n",
    "print(\"دقت مدل بهینه:\", accuracy_score(y_test, y_pred_best))\n",
    "\n",
    "# ماتریس درهم‌ریختگی\n",
    "conf_matrix = confusion_matrix(y_test, y_pred_best)\n",
    "sns.heatmap(conf_matrix, annot=True, cmap=\"Blues\", fmt=\"d\")\n",
    "plt.title(\"ماتریس درهم‌ریختگی مدل بهینه\")\n",
    "plt.show()\n",
    "\n",
    "# گزارش دسته‌بندی\n",
    "print(classification_report(y_test, y_pred_best))"
   ]
  },
  {
   "cell_type": "code",
   "execution_count": null,
   "id": "9b9ccc73",
   "metadata": {},
   "outputs": [],
   "source": [
    "# 5. پیش‌بینی متغیر پاسخ برای داده‌های آزمون\n",
    "cross_val_scores = cross_val_score(best_tree, X, y, cv=10)\n",
    "print(\"دقت 10-Fold Cross-Validation:\", cross_val_scores.mean())\n",
    "\n",
    "# مقایسه نتایج Hold-Out و Cross-Validation\n",
    "print(\"دقت Hold-Out:\", accuracy_score(y_test, y_pred_best))\n",
    "print(\"میانگین دقت Cross-Validation:\", cross_val_scores.mean())"
   ]
  },
  {
   "cell_type": "code",
   "execution_count": null,
   "id": "ad0a51fb",
   "metadata": {},
   "outputs": [],
   "source": [
    "# نمایش درخت تصمیم بهینه\n",
    "plt.figure(figsize=(20, 10))\n",
    "plot_tree(best_tree, filled=True, feature_names=X.columns, class_names=best_tree.classes_)\n",
    "plt.title(\"درخت تصمیم بهینه\")\n",
    "plt.show()"
   ]
  }
 ],
 "metadata": {},
 "nbformat": 4,
 "nbformat_minor": 5
}